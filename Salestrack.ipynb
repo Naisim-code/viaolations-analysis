print('WELCOME TO STOCK TRACKING SYSTEM \n')

# ask the user for initial stock level and number of months to plan
initial_stock = int(input("Please enter an initial stock level: "))
num_months = int(input("Please enter the number of months to plan: "))

# initialize the stock level and production quantity
stock_level = initial_stock
production_quantities = []

# Rwquest planned quantity from the user
for month in range(1, num_months+1):
    sales_quantity = int(input(f"Please enter the planned sales quantity for month {month}: "))
    if sales_quantity <= stock_level:
        production_quantity = 0
    else:
        production_quantity = sales_quantity - stock_level
    
    production_quantities.append(production_quantity)
    stock_level += production_quantity - sales_quantity

# print the production quantities to the use
print("The resulting production quantities are:")
for month, production_quantity in enumerate(production_quantities):
    print(f"Production quantity month {month+1} - {production_quantity}")
